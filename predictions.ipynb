{
 "cells": [
  {
   "cell_type": "markdown",
   "id": "1f1e01a0",
   "metadata": {},
   "source": [
    "## Prepare input data and make predictions"
   ]
  },
  {
   "cell_type": "code",
   "execution_count": 2,
   "id": "ae6ae8c7",
   "metadata": {},
   "outputs": [
    {
     "data": {
      "text/html": [
       "<style>.container { width:85% !important; }</style>"
      ],
      "text/plain": [
       "<IPython.core.display.HTML object>"
      ]
     },
     "metadata": {},
     "output_type": "display_data"
    }
   ],
   "source": [
    "# Setup window width\n",
    "from IPython.display import display, HTML\n",
    "display(HTML(\"<style>.container { width:85% !important; }</style>\"))\n",
    "\n",
    "# Supress warnings\n",
    "import warnings\n",
    "warnings.filterwarnings('ignore')\n",
    "\n",
    "# Import\n",
    "import pandas as pd\n",
    "import numpy as np\n",
    "import datetime as dt\n",
    "import joblib\n",
    "\n",
    "# Set pandas options\n",
    "pd.set_option('display.max_columns', 50)\n",
    "pd.set_option('display.precision', 2)\n",
    "\n",
    "# Plot\n",
    "from matplotlib import pyplot as plt\n",
    "import seaborn as sns\n",
    "\n",
    "sns.set()"
   ]
  },
  {
   "cell_type": "code",
   "execution_count": 4,
   "id": "e084c660",
   "metadata": {},
   "outputs": [],
   "source": [
    "# Load ML model and data scaler\n",
    "model = joblib.load(\"./dumps/lasso_model.joblib\")\n",
    "scaler = joblib.load(\"./dumps/scaler.joblijb\")\n",
    "columns = joblib.load(\"./dumps/data_columns.joblib\")\n",
    "comics_sex = joblib.load(\"./dumps/comics_sex.joblib\")"
   ]
  },
  {
   "cell_type": "code",
   "execution_count": 5,
   "id": "6f96ba32",
   "metadata": {},
   "outputs": [],
   "source": [
    "def prep_input(cast: str, duratinos: int, age_days: int, *, show: bool=False) -> np.array:\n",
    "    \"\"\"\n",
    "    Prepare numpy array for model prediction.\n",
    "    Cast format: `{name0} {lastname0}, {name1} {lastname1}, ..., {name4} {lastname4}`\n",
    "    \"\"\"\n",
    "    row = np.array(np.zeros(109))\n",
    "    row[:2] = duratinos, age_days\n",
    "    males = females = 0\n",
    "    cast = [\"_\".join(item.split()) for item in cast.replace(\"ё\", \"е\").split(\", \")]\n",
    "    for name in cast:\n",
    "        if name not in comics_sex:\n",
    "            print(f\"Not found: {name}\")\n",
    "            continue\n",
    "        if comics_sex[name]:\n",
    "            males += 1 \n",
    "        else:\n",
    "            females += 1\n",
    "        \n",
    "        arr_index = columns.get_loc(name)\n",
    "        row[arr_index] = 1\n",
    "    \n",
    "    row[2:4] = males, females\n",
    "    if show:\n",
    "        print(*zip(columns, row), sep=\"\\n\")\n",
    "\n",
    "    return scaler.transform(row.reshape(1, -1))\n",
    "    "
   ]
  },
  {
   "cell_type": "code",
   "execution_count": 6,
   "id": "438d9d56",
   "metadata": {},
   "outputs": [],
   "source": [
    "def make_prediction(data: np.array) -> tuple:\n",
    "    \"\"\"\n",
    "    Make a prediction and return tuple with prediction\n",
    "    and possible deviations in prediction based on\n",
    "    models Mean Absolute Error (17%)\n",
    "    \"\"\"\n",
    "    p = model.predict(data)\n",
    "    return tuple((int(p * k)) for k in (0.83, 1, 1.17))\n"
   ]
  },
  {
   "cell_type": "code",
   "execution_count": 7,
   "id": "c5a71842",
   "metadata": {},
   "outputs": [
    {
     "name": "stdout",
     "output_type": "stream",
     "text": [
      "('duration', 58.0)\n",
      "('age_days', 14.0)\n",
      "('males', 5.0)\n",
      "('females', 0.0)\n",
      "('Вова_Бухаров', 0.0)\n",
      "('Тимур_Джанкезов', 0.0)\n",
      "('Иван_Явиц', 0.0)\n",
      "('Юля_Жеребцова', 0.0)\n",
      "('Андрей_Цеховский', 0.0)\n",
      "('Нидаль_Абу-Газале', 0.0)\n",
      "('Костя_Широков', 0.0)\n",
      "('Ньургун_Атаков', 0.0)\n",
      "('Дима_Гаврилов', 0.0)\n",
      "('Гурам_Демидов', 0.0)\n",
      "('Фил_Воронин', 0.0)\n",
      "('Коля_Андреев', 1.0)\n",
      "('Толя_Бороздин', 0.0)\n",
      "('Давид_Квахаджелидзе', 0.0)\n",
      "('Саша_Киселев', 0.0)\n",
      "('Егор_Александров', 0.0)\n",
      "('Игорь_Тарлецкий', 0.0)\n",
      "('Ольга_Малащенко', 0.0)\n",
      "('Кирилл_Ферапонтов', 0.0)\n",
      "('Самвел_Гиновян', 0.0)\n",
      "('Хетаг_Хугаев', 0.0)\n",
      "('Расул_Чабдаров', 0.0)\n",
      "('Сержан_Аманов', 0.0)\n",
      "('Тимур_Хамадуллин', 0.0)\n",
      "('Эдуард_Чернышенко', 0.0)\n",
      "('Ариана_Лолаева', 0.0)\n",
      "('Михаил_Босов', 0.0)\n",
      "('Эд_Овсепян', 0.0)\n",
      "('Вадим_Постильный', 0.0)\n",
      "('Артем_Калантарян', 0.0)\n",
      "('Ирина_Приходько', 0.0)\n",
      "('Алексей_Соловьев', 0.0)\n",
      "('Артем_Андреев', 0.0)\n",
      "('Ваня_Усович', 0.0)\n",
      "('Семен_Деяк', 0.0)\n",
      "('Николай_Андреев', 0.0)\n",
      "('Эдик_Чернышенко', 0.0)\n",
      "('Олег_Боярский', 0.0)\n",
      "('Саша_Ни', 0.0)\n",
      "('Салават_Дюсенгалиев', 0.0)\n",
      "('Чермен_Качмазов', 0.0)\n",
      "('Вася_Медведев', 0.0)\n",
      "('Данила_Поперечный', 0.0)\n",
      "('Марат_Секаев', 0.0)\n",
      "('Артем_Емельянов', 0.0)\n",
      "('Александр_Киселев', 0.0)\n",
      "('Александр_Долгополов', 0.0)\n",
      "('Артур_Чапарян', 0.0)\n",
      "('Иван_Ильин', 0.0)\n",
      "('Коля_Болт', 0.0)\n",
      "('Сева_Ловкачев', 1.0)\n",
      "('Денис_Антипин', 0.0)\n",
      "('Никита_Дубровский', 0.0)\n",
      "('Руслан_Халитов', 0.0)\n",
      "('Миша_Кострецов', 0.0)\n",
      "('Эльдар_Гусейнов', 0.0)\n",
      "('Алексей_Квашонкин', 0.0)\n",
      "('Денис_Чужой', 0.0)\n",
      "('Дима_Коваль', 1.0)\n",
      "('Леша_Шамутило', 0.0)\n",
      "('Алексей_Шамутило', 0.0)\n",
      "('Андрей_Шарапов', 0.0)\n",
      "('Даниил_Слободенюк', 1.0)\n",
      "('Ара_Акопян', 0.0)\n",
      "('Наташа_Судьина', 0.0)\n",
      "('Илья_Овечкин', 0.0)\n",
      "('Яся_Тринадцатко', 0.0)\n",
      "('Богдан_Лисевский', 0.0)\n",
      "('Илья_Бурков', 0.0)\n",
      "('Лиза_Аранова', 0.0)\n",
      "('Андрей_Айрапетов', 0.0)\n",
      "('Костя_Пушкин', 0.0)\n",
      "('Туяна_Хоровиц', 0.0)\n",
      "('Павел_Сбродов', 0.0)\n",
      "('Баграт_Казарян', 0.0)\n",
      "('Гарик_Оганисян', 0.0)\n",
      "('Соня_Медовщикова', 0.0)\n",
      "('Аля_Кокушкина', 0.0)\n",
      "('Ваня_Ильин', 0.0)\n",
      "('Дима_Колыбелкин', 0.0)\n",
      "('Саша_Малой', 0.0)\n",
      "('Дмитрий_Романов', 0.0)\n",
      "('Василий_Медведев', 0.0)\n",
      "('Ника_Тарасевич', 0.0)\n",
      "('Данил_Гугунава', 0.0)\n",
      "('Лука_Хиникадзе', 0.0)\n",
      "('Филипп_Воронин', 0.0)\n",
      "('Егор_Свирский', 0.0)\n",
      "('Лев_Еременко', 0.0)\n",
      "('Идрак_Мирзализаде', 0.0)\n",
      "('Гоша_Сморгуленко', 0.0)\n",
      "('Владимир_Бухаров', 0.0)\n",
      "('Павел_Кривец', 0.0)\n",
      "('Маргарита_Якобсон', 0.0)\n",
      "('Денис_Смирнов', 0.0)\n",
      "('Марк_Сергиенко', 0.0)\n",
      "('Вера_Котельникова', 0.0)\n",
      "('Сергей_Орлов', 1.0)\n",
      "('Женя_Сидоров', 0.0)\n",
      "('Сергей_Зорик', 0.0)\n",
      "('Дмитрий_Колыбелкин', 0.0)\n",
      "('Кирилл_Селегей', 0.0)\n",
      "('Лев_Марсел', 0.0)\n",
      "('Костя_Захарин', 0.0)\n",
      "('Ярослава_Тринадцатко', 0.0)\n"
     ]
    }
   ],
   "source": [
    "# Input preparation\n",
    "data = prep_input(\"Сергей Орлов, Даниил Слободенюк, Сева Ловкачёв, Дима Коваль, Коля Андреев\", 58, 14, show=True)"
   ]
  },
  {
   "cell_type": "code",
   "execution_count": 8,
   "id": "91b21650",
   "metadata": {},
   "outputs": [
    {
     "name": "stdout",
     "output_type": "stream",
     "text": [
      "\n",
      "Low prediction:    1053291 views\n",
      "Prediction:        1269026 views\n",
      "High prediction    1484760 views\n",
      "\n"
     ]
    }
   ],
   "source": [
    "print(\n",
    "\"\"\"\n",
    "Low prediction: {:>10} views\n",
    "Prediction:     {:>10} views\n",
    "High prediction {:>10} views\n",
    "\"\"\".format(*make_prediction(data)))"
   ]
  }
 ],
 "metadata": {
  "kernelspec": {
   "display_name": "Python 3 (ipykernel)",
   "language": "python",
   "name": "python3"
  },
  "language_info": {
   "codemirror_mode": {
    "name": "ipython",
    "version": 3
   },
   "file_extension": ".py",
   "mimetype": "text/x-python",
   "name": "python",
   "nbconvert_exporter": "python",
   "pygments_lexer": "ipython3",
   "version": "3.10.6"
  }
 },
 "nbformat": 4,
 "nbformat_minor": 5
}
