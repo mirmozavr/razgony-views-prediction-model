{
 "cells": [
  {
   "cell_type": "markdown",
   "id": "11d3392b",
   "metadata": {},
   "source": [
    "## Train a model to make predictions for upcoming videos based on show cast "
   ]
  },
  {
   "cell_type": "code",
   "execution_count": 2,
   "id": "7b6f34f2",
   "metadata": {},
   "outputs": [
    {
     "data": {
      "text/html": [
       "<style>.container { width:85% !important; }</style>"
      ],
      "text/plain": [
       "<IPython.core.display.HTML object>"
      ]
     },
     "metadata": {},
     "output_type": "display_data"
    }
   ],
   "source": [
    "# Setup window width\n",
    "from IPython.display import display, HTML\n",
    "display(HTML(\"<style>.container { width:85% !important; }</style>\"))\n",
    "\n",
    "# Supress warnings\n",
    "import warnings\n",
    "warnings.filterwarnings('ignore')\n",
    "\n",
    "# Import\n",
    "import pandas as pd\n",
    "import numpy as np\n",
    "import datetime as dt\n",
    "import joblib\n",
    "\n",
    "# Set pandas options\n",
    "pd.set_option('display.max_columns', 50)\n",
    "pd.set_option('display.precision', 2)\n",
    "\n",
    "# Plot\n",
    "from matplotlib import pyplot as plt\n",
    "import seaborn as sns\n",
    "\n",
    "sns.set()"
   ]
  },
  {
   "cell_type": "code",
   "execution_count": 20,
   "id": "1504a6b0",
   "metadata": {},
   "outputs": [],
   "source": [
    "# ML imports\n",
    "from sklearn.linear_model import LassoCV\n",
    "from sklearn.model_selection import train_test_split, TimeSeriesSplit\n",
    "from sklearn.metrics import mean_absolute_error, mean_absolute_percentage_error, median_absolute_error,\\\n",
    "                            mean_squared_error, mean_squared_log_error, r2_score \n",
    "from sklearn.preprocessing import StandardScaler"
   ]
  },
  {
   "cell_type": "code",
   "execution_count": 4,
   "id": "5eeb0681",
   "metadata": {},
   "outputs": [],
   "source": [
    "# Load data\n",
    "df = pd.read_csv(\"razgony_data.csv\", sep=\",\", index_col=\"id\")"
   ]
  },
  {
   "cell_type": "code",
   "execution_count": 5,
   "id": "d1e0ed8d",
   "metadata": {},
   "outputs": [],
   "source": [
    "X = df.drop(columns=[\"release_date\", \"names\", \"likes\", \"dislikes\", \"views\"])\n",
    "y = df[\"views\"]"
   ]
  },
  {
   "cell_type": "code",
   "execution_count": 6,
   "id": "cdab239c",
   "metadata": {},
   "outputs": [],
   "source": [
    "# Save columns names\n",
    "columns = X.columns"
   ]
  },
  {
   "cell_type": "code",
   "execution_count": 7,
   "id": "fdbe6912",
   "metadata": {},
   "outputs": [],
   "source": [
    "# Standardize data due to big numeric difference\n",
    "scaler = StandardScaler()\n",
    "X_scaled = scaler.fit_transform(X)"
   ]
  },
  {
   "cell_type": "code",
   "execution_count": 8,
   "id": "932c7856",
   "metadata": {},
   "outputs": [],
   "source": [
    "# Split data for train and holdout \n",
    "X_train, X_val, y_train, y_val = X_scaled[:61], X_scaled[61:], y.iloc[:61], y.iloc[61:]"
   ]
  },
  {
   "cell_type": "code",
   "execution_count": 9,
   "id": "9d1d60d5",
   "metadata": {},
   "outputs": [],
   "source": [
    "# Set time series data splitter\n",
    "tss = TimeSeriesSplit(n_splits=3)"
   ]
  },
  {
   "cell_type": "markdown",
   "id": "4ed29fc7",
   "metadata": {},
   "source": [
    "## Train linear Lasso model"
   ]
  },
  {
   "cell_type": "markdown",
   "id": "d9a8f5b7",
   "metadata": {},
   "source": [
    "Lasso model showed best results on given sparse dataset"
   ]
  },
  {
   "cell_type": "code",
   "execution_count": 10,
   "id": "dbf724a9",
   "metadata": {},
   "outputs": [],
   "source": [
    "# Cross validate Lasso on Time Series Split\n",
    "cv_lasso = LassoCV(cv=tss)"
   ]
  },
  {
   "cell_type": "code",
   "execution_count": 11,
   "id": "47501261",
   "metadata": {},
   "outputs": [
    {
     "data": {
      "text/html": [
       "<style>#sk-container-id-1 {color: black;background-color: white;}#sk-container-id-1 pre{padding: 0;}#sk-container-id-1 div.sk-toggleable {background-color: white;}#sk-container-id-1 label.sk-toggleable__label {cursor: pointer;display: block;width: 100%;margin-bottom: 0;padding: 0.3em;box-sizing: border-box;text-align: center;}#sk-container-id-1 label.sk-toggleable__label-arrow:before {content: \"▸\";float: left;margin-right: 0.25em;color: #696969;}#sk-container-id-1 label.sk-toggleable__label-arrow:hover:before {color: black;}#sk-container-id-1 div.sk-estimator:hover label.sk-toggleable__label-arrow:before {color: black;}#sk-container-id-1 div.sk-toggleable__content {max-height: 0;max-width: 0;overflow: hidden;text-align: left;background-color: #f0f8ff;}#sk-container-id-1 div.sk-toggleable__content pre {margin: 0.2em;color: black;border-radius: 0.25em;background-color: #f0f8ff;}#sk-container-id-1 input.sk-toggleable__control:checked~div.sk-toggleable__content {max-height: 200px;max-width: 100%;overflow: auto;}#sk-container-id-1 input.sk-toggleable__control:checked~label.sk-toggleable__label-arrow:before {content: \"▾\";}#sk-container-id-1 div.sk-estimator input.sk-toggleable__control:checked~label.sk-toggleable__label {background-color: #d4ebff;}#sk-container-id-1 div.sk-label input.sk-toggleable__control:checked~label.sk-toggleable__label {background-color: #d4ebff;}#sk-container-id-1 input.sk-hidden--visually {border: 0;clip: rect(1px 1px 1px 1px);clip: rect(1px, 1px, 1px, 1px);height: 1px;margin: -1px;overflow: hidden;padding: 0;position: absolute;width: 1px;}#sk-container-id-1 div.sk-estimator {font-family: monospace;background-color: #f0f8ff;border: 1px dotted black;border-radius: 0.25em;box-sizing: border-box;margin-bottom: 0.5em;}#sk-container-id-1 div.sk-estimator:hover {background-color: #d4ebff;}#sk-container-id-1 div.sk-parallel-item::after {content: \"\";width: 100%;border-bottom: 1px solid gray;flex-grow: 1;}#sk-container-id-1 div.sk-label:hover label.sk-toggleable__label {background-color: #d4ebff;}#sk-container-id-1 div.sk-serial::before {content: \"\";position: absolute;border-left: 1px solid gray;box-sizing: border-box;top: 0;bottom: 0;left: 50%;z-index: 0;}#sk-container-id-1 div.sk-serial {display: flex;flex-direction: column;align-items: center;background-color: white;padding-right: 0.2em;padding-left: 0.2em;position: relative;}#sk-container-id-1 div.sk-item {position: relative;z-index: 1;}#sk-container-id-1 div.sk-parallel {display: flex;align-items: stretch;justify-content: center;background-color: white;position: relative;}#sk-container-id-1 div.sk-item::before, #sk-container-id-1 div.sk-parallel-item::before {content: \"\";position: absolute;border-left: 1px solid gray;box-sizing: border-box;top: 0;bottom: 0;left: 50%;z-index: -1;}#sk-container-id-1 div.sk-parallel-item {display: flex;flex-direction: column;z-index: 1;position: relative;background-color: white;}#sk-container-id-1 div.sk-parallel-item:first-child::after {align-self: flex-end;width: 50%;}#sk-container-id-1 div.sk-parallel-item:last-child::after {align-self: flex-start;width: 50%;}#sk-container-id-1 div.sk-parallel-item:only-child::after {width: 0;}#sk-container-id-1 div.sk-dashed-wrapped {border: 1px dashed gray;margin: 0 0.4em 0.5em 0.4em;box-sizing: border-box;padding-bottom: 0.4em;background-color: white;}#sk-container-id-1 div.sk-label label {font-family: monospace;font-weight: bold;display: inline-block;line-height: 1.2em;}#sk-container-id-1 div.sk-label-container {text-align: center;}#sk-container-id-1 div.sk-container {/* jupyter's `normalize.less` sets `[hidden] { display: none; }` but bootstrap.min.css set `[hidden] { display: none !important; }` so we also need the `!important` here to be able to override the default hidden behavior on the sphinx rendered scikit-learn.org. See: https://github.com/scikit-learn/scikit-learn/issues/21755 */display: inline-block !important;position: relative;}#sk-container-id-1 div.sk-text-repr-fallback {display: none;}</style><div id=\"sk-container-id-1\" class=\"sk-top-container\"><div class=\"sk-text-repr-fallback\"><pre>LassoCV(cv=TimeSeriesSplit(gap=0, max_train_size=None, n_splits=3, test_size=None))</pre><b>In a Jupyter environment, please rerun this cell to show the HTML representation or trust the notebook. <br />On GitHub, the HTML representation is unable to render, please try loading this page with nbviewer.org.</b></div><div class=\"sk-container\" hidden><div class=\"sk-item\"><div class=\"sk-estimator sk-toggleable\"><input class=\"sk-toggleable__control sk-hidden--visually\" id=\"sk-estimator-id-1\" type=\"checkbox\" checked><label for=\"sk-estimator-id-1\" class=\"sk-toggleable__label sk-toggleable__label-arrow\">LassoCV</label><div class=\"sk-toggleable__content\"><pre>LassoCV(cv=TimeSeriesSplit(gap=0, max_train_size=None, n_splits=3, test_size=None))</pre></div></div></div></div></div>"
      ],
      "text/plain": [
       "LassoCV(cv=TimeSeriesSplit(gap=0, max_train_size=None, n_splits=3, test_size=None))"
      ]
     },
     "execution_count": 11,
     "metadata": {},
     "output_type": "execute_result"
    }
   ],
   "source": [
    "cv_lasso.fit(X_train, y_train)"
   ]
  },
  {
   "cell_type": "code",
   "execution_count": 12,
   "id": "98584a5e",
   "metadata": {},
   "outputs": [],
   "source": [
    "prediction = cv_lasso.predict(X_val)"
   ]
  },
  {
   "cell_type": "markdown",
   "id": "55f4601c",
   "metadata": {},
   "source": [
    "## Metrics"
   ]
  },
  {
   "cell_type": "code",
   "execution_count": 30,
   "id": "7a7bf59d",
   "metadata": {},
   "outputs": [
    {
     "name": "stdout",
     "output_type": "stream",
     "text": [
      "             MEAN_ABSOLUTE_ERROR = 127442.03\n",
      "  MEAN_ABSOLUTE_PERCENTAGE_ERROR = 0.17\n",
      "           MEDIAN_ABSOLUTE_ERROR = 100906.82\n",
      "              MEAN_SQUARED_ERROR = 26930700587.97\n",
      "          MEAN_SQUARED_LOG_ERROR = 0.04\n",
      "                        R2_SCORE = 0.11\n"
     ]
    }
   ],
   "source": [
    "def metric_printer(y_true, y_pred):\n",
    "    for metric in [mean_absolute_error, mean_absolute_percentage_error, median_absolute_error, \n",
    "                    mean_squared_error, mean_squared_log_error, r2_score]:\n",
    "        print(f\"{metric.__name__.upper():>32} = {metric(y_true, y_pred):.2f}\")\n",
    "\n",
    "metric_printer(y_val, prediction)"
   ]
  },
  {
   "cell_type": "code",
   "execution_count": 13,
   "id": "632618fd",
   "metadata": {},
   "outputs": [],
   "source": [
    "z = pd.DataFrame({\"true\": y_val, \"pred\": prediction})\n",
    "z[\"diff\"] = z['pred'] - z[\"true\"]"
   ]
  },
  {
   "cell_type": "code",
   "execution_count": 14,
   "id": "cb366051",
   "metadata": {},
   "outputs": [],
   "source": [
    "# Feature coefficients\n",
    "coef_df = pd.DataFrame({\"cols\": columns, \"coef\": cv_lasso.coef_}).sort_values(by=\"coef\", ascending=False)"
   ]
  },
  {
   "cell_type": "code",
   "execution_count": 15,
   "id": "2ab1930f",
   "metadata": {},
   "outputs": [
    {
     "data": {
      "text/html": [
       "<div>\n",
       "<style scoped>\n",
       "    .dataframe tbody tr th:only-of-type {\n",
       "        vertical-align: middle;\n",
       "    }\n",
       "\n",
       "    .dataframe tbody tr th {\n",
       "        vertical-align: top;\n",
       "    }\n",
       "\n",
       "    .dataframe thead th {\n",
       "        text-align: right;\n",
       "    }\n",
       "</style>\n",
       "<table border=\"1\" class=\"dataframe\">\n",
       "  <thead>\n",
       "    <tr style=\"text-align: right;\">\n",
       "      <th></th>\n",
       "      <th>cols</th>\n",
       "      <th>coef</th>\n",
       "    </tr>\n",
       "  </thead>\n",
       "  <tbody>\n",
       "    <tr>\n",
       "      <th>0</th>\n",
       "      <td>duration</td>\n",
       "      <td>143959.19</td>\n",
       "    </tr>\n",
       "    <tr>\n",
       "      <th>1</th>\n",
       "      <td>age_days</td>\n",
       "      <td>114354.26</td>\n",
       "    </tr>\n",
       "    <tr>\n",
       "      <th>101</th>\n",
       "      <td>Сергей_Орлов</td>\n",
       "      <td>111192.47</td>\n",
       "    </tr>\n",
       "    <tr>\n",
       "      <th>51</th>\n",
       "      <td>Артур_Чапарян</td>\n",
       "      <td>79134.89</td>\n",
       "    </tr>\n",
       "    <tr>\n",
       "      <th>52</th>\n",
       "      <td>Иван_Ильин</td>\n",
       "      <td>62571.34</td>\n",
       "    </tr>\n",
       "    <tr>\n",
       "      <th>90</th>\n",
       "      <td>Филипп_Воронин</td>\n",
       "      <td>59150.88</td>\n",
       "    </tr>\n",
       "    <tr>\n",
       "      <th>84</th>\n",
       "      <td>Саша_Малой</td>\n",
       "      <td>45596.95</td>\n",
       "    </tr>\n",
       "    <tr>\n",
       "      <th>37</th>\n",
       "      <td>Ваня_Усович</td>\n",
       "      <td>38723.97</td>\n",
       "    </tr>\n",
       "    <tr>\n",
       "      <th>59</th>\n",
       "      <td>Эльдар_Гусейнов</td>\n",
       "      <td>26088.39</td>\n",
       "    </tr>\n",
       "    <tr>\n",
       "      <th>93</th>\n",
       "      <td>Идрак_Мирзализаде</td>\n",
       "      <td>16447.05</td>\n",
       "    </tr>\n",
       "  </tbody>\n",
       "</table>\n",
       "</div>"
      ],
      "text/plain": [
       "                  cols       coef\n",
       "0             duration  143959.19\n",
       "1             age_days  114354.26\n",
       "101       Сергей_Орлов  111192.47\n",
       "51       Артур_Чапарян   79134.89\n",
       "52          Иван_Ильин   62571.34\n",
       "90      Филипп_Воронин   59150.88\n",
       "84          Саша_Малой   45596.95\n",
       "37         Ваня_Усович   38723.97\n",
       "59     Эльдар_Гусейнов   26088.39\n",
       "93   Идрак_Мирзализаде   16447.05"
      ]
     },
     "execution_count": 15,
     "metadata": {},
     "output_type": "execute_result"
    }
   ],
   "source": [
    "# Top 10 coeffiecients\n",
    "coef_df[:10]"
   ]
  },
  {
   "cell_type": "code",
   "execution_count": 22,
   "id": "5246c643",
   "metadata": {},
   "outputs": [
    {
     "data": {
      "text/plain": [
       "['data_columns.joblib']"
      ]
     },
     "execution_count": 22,
     "metadata": {},
     "output_type": "execute_result"
    }
   ],
   "source": [
    "# Dump Lasso model object to a file for further load\n",
    "joblib.dump(cv_lasso, \"./dumps/lasso_model.joblib\")\n",
    "# Dump scaler object\n",
    "joblib.dump(scaler, \"./dumps/scaler.joblijb\")\n",
    "# Dump dataframe columns\n",
    "joblib.dump(columns, \"./dumps/data_columns.joblib\")"
   ]
  }
 ],
 "metadata": {
  "kernelspec": {
   "display_name": "Python 3 (ipykernel)",
   "language": "python",
   "name": "python3"
  },
  "language_info": {
   "codemirror_mode": {
    "name": "ipython",
    "version": 3
   },
   "file_extension": ".py",
   "mimetype": "text/x-python",
   "name": "python",
   "nbconvert_exporter": "python",
   "pygments_lexer": "ipython3",
   "version": "3.10.6"
  }
 },
 "nbformat": 4,
 "nbformat_minor": 5
}
